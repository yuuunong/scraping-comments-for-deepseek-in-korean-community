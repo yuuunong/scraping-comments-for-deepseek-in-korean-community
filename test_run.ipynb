{
 "cells": [
  {
   "cell_type": "code",
   "execution_count": 2,
   "metadata": {},
   "outputs": [],
   "source": [
    "import requests\n",
    "from bs4 import BeautifulSoup as bs"
   ]
  },
  {
   "cell_type": "code",
   "execution_count": 3,
   "metadata": {},
   "outputs": [],
   "source": [
    "url = 'https://www.fmkorea.com/search.php?act=IS&is_keyword=%EB%94%A5%EC%8B%9C%ED%81%AC&mid=home&where=document&page=1'"
   ]
  },
  {
   "cell_type": "code",
   "execution_count": 4,
   "metadata": {},
   "outputs": [],
   "source": [
    "header = {'User-Agent': 'Mozilla/5.0 (Windows NT 10.0; Win64; x64) AppleWebKit/537.36 (KHTML, like Gecko) Chrome/131.0.0.0 Safari/537.36'}"
   ]
  },
  {
   "cell_type": "code",
   "execution_count": 30,
   "metadata": {},
   "outputs": [],
   "source": [
    "response = requests.get(url = url, headers = header)"
   ]
  },
  {
   "cell_type": "code",
   "execution_count": 31,
   "metadata": {},
   "outputs": [
    {
     "data": {
      "text/plain": [
       "200"
      ]
     },
     "execution_count": 31,
     "metadata": {},
     "output_type": "execute_result"
    }
   ],
   "source": [
    "response.status_code"
   ]
  },
  {
   "cell_type": "code",
   "execution_count": 7,
   "metadata": {},
   "outputs": [],
   "source": [
    "bs_text = bs(response.text, 'html.parser')"
   ]
  },
  {
   "cell_type": "code",
   "execution_count": 8,
   "metadata": {},
   "outputs": [],
   "source": [
    "comment_list = bs_text.find_all('dl')"
   ]
  },
  {
   "cell_type": "code",
   "execution_count": 9,
   "metadata": {},
   "outputs": [
    {
     "name": "stdout",
     "output_type": "stream",
     "text": [
      "0\n",
      "1\n",
      "2\n",
      "3\n",
      "4\n",
      "5\n",
      "6\n",
      "7\n",
      "8\n",
      "9\n"
     ]
    }
   ],
   "source": [
    "count = 0\n",
    "for i in comment_list:\n",
    "    print(count)\n",
    "    count += 1"
   ]
  },
  {
   "cell_type": "code",
   "execution_count": 10,
   "metadata": {},
   "outputs": [
    {
     "data": {
      "text/plain": [
       "' [해외축구] 자기팀에 잘모르는선수 링크가 됐을때 스카우트 리포트 간단하게 만드는법 '"
      ]
     },
     "execution_count": 10,
     "metadata": {},
     "output_type": "execute_result"
    }
   ],
   "source": [
    "comment_list[0].find('dt').get_text()"
   ]
  },
  {
   "cell_type": "code",
   "execution_count": 11,
   "metadata": {},
   "outputs": [
    {
     "data": {
      "text/plain": [
       "<dl> <dt> <a href=\"/7970988386\">[해외축구] 자기팀에 잘모르는선수 링크가 됐을때 스카우트 리포트 간단하게 만드는법</a> </dt> <dd>는애들은 그거쓰고 <strong class=\"searchContextDoc\">딥시크</strong>는 지금 이미지파일 ... </dd> </dl>"
      ]
     },
     "execution_count": 11,
     "metadata": {},
     "output_type": "execute_result"
    }
   ],
   "source": [
    "comment_list[0]"
   ]
  },
  {
   "cell_type": "code",
   "execution_count": 12,
   "metadata": {},
   "outputs": [
    {
     "data": {
      "text/plain": [
       "'는애들은 그거쓰고 딥시크는 지금 이미지파일 ... '"
      ]
     },
     "execution_count": 12,
     "metadata": {},
     "output_type": "execute_result"
    }
   ],
   "source": [
    "comment_list[0].find('dd').get_text()"
   ]
  },
  {
   "cell_type": "code",
   "execution_count": 13,
   "metadata": {},
   "outputs": [],
   "source": [
    "comment_dict_list = [{\n",
    "    'title': comment_list[0].find('dt').get_text(),\n",
    "    'comment': comment_list[0].find('dd').get_text()\n",
    "}]"
   ]
  },
  {
   "cell_type": "code",
   "execution_count": 14,
   "metadata": {},
   "outputs": [
    {
     "data": {
      "text/plain": [
       "[{'title': ' [해외축구] 자기팀에 잘모르는선수 링크가 됐을때 스카우트 리포트 간단하게 만드는법 ',\n",
       "  'comment': '는애들은 그거쓰고 딥시크는 지금 이미지파일 ... '}]"
      ]
     },
     "execution_count": 14,
     "metadata": {},
     "output_type": "execute_result"
    }
   ],
   "source": [
    "comment_dict_list"
   ]
  },
  {
   "cell_type": "code",
   "execution_count": 15,
   "metadata": {},
   "outputs": [],
   "source": [
    "import requests\n",
    "\n",
    "def connect_fmkorea(p_page:int):\n",
    "    url = f'https://www.fmkorea.com/search.php?act=IS&is_keyword=%EB%94%A5%EC%8B%9C%ED%81%AC&mid=home&where=document&page={p_page}'\n",
    "    header = {'User-Agent': 'Mozilla/5.0 (Windows NT 10.0; Win64; x64) AppleWebKit/537.36 (KHTML, like Gecko) Chrome/131.0.0.0 Safari/537.36'}\n",
    "    response = requests.get(url = url, headers = header)\n",
    "    return response"
   ]
  },
  {
   "cell_type": "code",
   "execution_count": 16,
   "metadata": {},
   "outputs": [],
   "source": [
    "response1 = connect_fmkorea(2)"
   ]
  },
  {
   "cell_type": "code",
   "execution_count": 32,
   "metadata": {},
   "outputs": [],
   "source": [
    "from bs4 import BeautifulSoup as bs\n",
    "\n",
    "def get_comments(p_response:requests.models.Response) -> list:\n",
    "    if p_response.status_code >= 400:\n",
    "        return '접속 오류입니다.'\n",
    "\n",
    "    bs_text = bs(p_response.text, 'html.parser')\n",
    "    \n",
    "    comment_list = bs_text.find_all('dl')\n",
    "\n",
    "    comment_dict_list = [{\n",
    "        'title': comment.find('dt').get_text(),\n",
    "        'comment': comment.find('dd').get_text()\n",
    "    } for comment in comment_list]\n",
    "\n",
    "    return comment_dict_list"
   ]
  },
  {
   "cell_type": "code",
   "execution_count": 33,
   "metadata": {},
   "outputs": [],
   "source": [
    "comments = get_comments(response1)"
   ]
  },
  {
   "cell_type": "code",
   "execution_count": 34,
   "metadata": {},
   "outputs": [
    {
     "name": "stdout",
     "output_type": "stream",
     "text": [
      "[{'title': ' [정치/시사] 트럼프도 빨간색이려나 [1] ', 'comment': '딥시크에 대해 중국을 칭찬하는 트럼프한국이었다면 앞뒤 맥락없이 조금이라도 두둔하면 빨갱이 몰이 할텐데 ㅋㅋㅋㅋㅋ아무튼 한국은 뭐하나의대에 사람이 몰리는게 정상인건가'}, {'title': ' [주식] 팔랑팔랑 팔란티어 소식 [9] ', 'comment': '팔란티어의 고객은 프라이버시 유출 우려 없이딥시크 사용이 가능 !!'}, {'title': ' [주식] 딥시크 사태 이공계 국회의원 논평 [6] ', 'comment': ''}, {'title': ' [원신] ㅇㅇㅅ) 뒤져따 딥시크 잉토법으로 불망간다 [14] ', 'comment': '잉토 쉽다 쉬워'}, {'title': ' [치지직] 딥시크 첫인상은 맘에 드는듯 [1] ', 'comment': '나이도 어린데 예의발라'}, {'title': ' [유머/움짤/이슈] 딥시크는 정말 개인정보 유출이 심각할까? ㅎㄷㄷㄷㄷㄷㄷ [1] ', 'comment': '피셜 1 구글 2 딥시크 3 네이버 순으로 ... '}, {'title': ' [가상화폐] 딥시크 묻은 코인 vvv가 제일좋은건가 ', 'comment': '바로 코인베이스 상장이네'}, {'title': ' [유머/움짤/이슈] 화제의 딥시크한테 대만문제에 관해 물어봄 [1] ', 'comment': '두루뭉실하게 대답할줄알았더니 방향성 확고한듯 ㄷㄷ근데 <우리>라고 하는거 보니 국적의식도 확실한건가'}, {'title': ' [주식] 딥시크? 그건 주식이 없나요?? [3] ', 'comment': '상장이 안된건가요??상하이 주식인가요??'}, {'title': ' [주식] 딥시크 이거 맞음? ', 'comment': '오픈소스긴 하나 딥시크를 응용해서 딥시크 1 2 3으로 만드는건 되도 딥시크를 새로 데이터 넣어서 만드는 코드는 비공개인거임? 내가 이해하는게 맞나?'}]\n"
     ]
    }
   ],
   "source": [
    "print(comments)"
   ]
  },
  {
   "cell_type": "code",
   "execution_count": 20,
   "metadata": {},
   "outputs": [
    {
     "name": "stdout",
     "output_type": "stream",
     "text": [
      "0\n",
      "{'title': ' [정치/시사] 트럼프도 빨간색이려나 [1] ', 'comment': '딥시크에 대해 중국을 칭찬하는 트럼프한국이었다면 앞뒤 맥락없이 조금이라도 두둔하면 빨갱이 몰이 할텐데 ㅋㅋㅋㅋㅋ아무튼 한국은 뭐하나의대에 사람이 몰리는게 정상인건가'}\n",
      "1\n",
      "{'title': ' [주식] 팔랑팔랑 팔란티어 소식 [9] ', 'comment': '팔란티어의 고객은 프라이버시 유출 우려 없이딥시크 사용이 가능 !!'}\n",
      "2\n",
      "{'title': ' [주식] 딥시크 사태 이공계 국회의원 논평 [6] ', 'comment': ''}\n",
      "3\n",
      "{'title': ' [원신] ㅇㅇㅅ) 뒤져따 딥시크 잉토법으로 불망간다 [14] ', 'comment': '잉토 쉽다 쉬워'}\n",
      "4\n",
      "{'title': ' [치지직] 딥시크 첫인상은 맘에 드는듯 [1] ', 'comment': '나이도 어린데 예의발라'}\n",
      "5\n",
      "{'title': ' [유머/움짤/이슈] 딥시크는 정말 개인정보 유출이 심각할까? ㅎㄷㄷㄷㄷㄷㄷ [1] ', 'comment': '피셜 1 구글 2 딥시크 3 네이버 순으로 ... '}\n",
      "6\n",
      "{'title': ' [가상화폐] 딥시크 묻은 코인 vvv가 제일좋은건가 ', 'comment': '바로 코인베이스 상장이네'}\n",
      "7\n",
      "{'title': ' [유머/움짤/이슈] 화제의 딥시크한테 대만문제에 관해 물어봄 [1] ', 'comment': '두루뭉실하게 대답할줄알았더니 방향성 확고한듯 ㄷㄷ근데 <우리>라고 하는거 보니 국적의식도 확실한건가'}\n",
      "8\n",
      "{'title': ' [주식] 딥시크? 그건 주식이 없나요?? [3] ', 'comment': '상장이 안된건가요??상하이 주식인가요??'}\n",
      "9\n",
      "{'title': ' [주식] 딥시크 이거 맞음? ', 'comment': '오픈소스긴 하나 딥시크를 응용해서 딥시크 1 2 3으로 만드는건 되도 딥시크를 새로 데이터 넣어서 만드는 코드는 비공개인거임? 내가 이해하는게 맞나?'}\n"
     ]
    }
   ],
   "source": [
    "for idx, data in enumerate(comments):\n",
    "    print(idx)\n",
    "    print(data)"
   ]
  },
  {
   "cell_type": "code",
   "execution_count": 21,
   "metadata": {},
   "outputs": [
    {
     "name": "stdout",
     "output_type": "stream",
     "text": [
      "{'title': ' [정치/시사] 트럼프도 빨간색이려나 [1] ', 'comment': '딥시크에 대해 중국을 칭찬하는 트럼프한국이었다면 앞뒤 맥락없이 조금이라도 두둔하면 빨갱이 몰이 할텐데 ㅋㅋㅋㅋㅋ아무튼 한국은 뭐하나의대에 사람이 몰리는게 정상인건가'}\n",
      "{'title': ' [주식] 팔랑팔랑 팔란티어 소식 [9] ', 'comment': '팔란티어의 고객은 프라이버시 유출 우려 없이딥시크 사용이 가능 !!'}\n",
      "{'title': ' [주식] 딥시크 사태 이공계 국회의원 논평 [6] ', 'comment': ''}\n",
      "{'title': ' [원신] ㅇㅇㅅ) 뒤져따 딥시크 잉토법으로 불망간다 [14] ', 'comment': '잉토 쉽다 쉬워'}\n",
      "{'title': ' [치지직] 딥시크 첫인상은 맘에 드는듯 [1] ', 'comment': '나이도 어린데 예의발라'}\n",
      "{'title': ' [유머/움짤/이슈] 딥시크는 정말 개인정보 유출이 심각할까? ㅎㄷㄷㄷㄷㄷㄷ [1] ', 'comment': '피셜 1 구글 2 딥시크 3 네이버 순으로 ... '}\n",
      "{'title': ' [가상화폐] 딥시크 묻은 코인 vvv가 제일좋은건가 ', 'comment': '바로 코인베이스 상장이네'}\n",
      "{'title': ' [유머/움짤/이슈] 화제의 딥시크한테 대만문제에 관해 물어봄 [1] ', 'comment': '두루뭉실하게 대답할줄알았더니 방향성 확고한듯 ㄷㄷ근데 <우리>라고 하는거 보니 국적의식도 확실한건가'}\n",
      "{'title': ' [주식] 딥시크? 그건 주식이 없나요?? [3] ', 'comment': '상장이 안된건가요??상하이 주식인가요??'}\n",
      "{'title': ' [주식] 딥시크 이거 맞음? ', 'comment': '오픈소스긴 하나 딥시크를 응용해서 딥시크 1 2 3으로 만드는건 되도 딥시크를 새로 데이터 넣어서 만드는 코드는 비공개인거임? 내가 이해하는게 맞나?'}\n"
     ]
    }
   ],
   "source": [
    "for i in comments:\n",
    "    print(i)"
   ]
  },
  {
   "cell_type": "code",
   "execution_count": 22,
   "metadata": {},
   "outputs": [
    {
     "data": {
      "text/plain": [
       "{'title': ' [정치/시사] 트럼프도 빨간색이려나 [1] ',\n",
       " 'comment': '딥시크에 대해 중국을 칭찬하는 트럼프한국이었다면 앞뒤 맥락없이 조금이라도 두둔하면 빨갱이 몰이 할텐데 ㅋㅋㅋㅋㅋ아무튼 한국은 뭐하나의대에 사람이 몰리는게 정상인건가'}"
      ]
     },
     "execution_count": 22,
     "metadata": {},
     "output_type": "execute_result"
    }
   ],
   "source": [
    "comments[0]"
   ]
  },
  {
   "cell_type": "code",
   "execution_count": 36,
   "metadata": {},
   "outputs": [
    {
     "data": {
      "text/plain": [
       "' [정치/시사] 트럼프도 빨간색이려나 [1] '"
      ]
     },
     "execution_count": 36,
     "metadata": {},
     "output_type": "execute_result"
    }
   ],
   "source": [
    "comments[0]['title']"
   ]
  },
  {
   "cell_type": "code",
   "execution_count": 37,
   "metadata": {},
   "outputs": [
    {
     "data": {
      "text/plain": [
       "'딥시크에 대해 중국을 칭찬하는 트럼프한국이었다면 앞뒤 맥락없이 조금이라도 두둔하면 빨갱이 몰이 할텐데 ㅋㅋㅋㅋㅋ아무튼 한국은 뭐하나의대에 사람이 몰리는게 정상인건가'"
      ]
     },
     "execution_count": 37,
     "metadata": {},
     "output_type": "execute_result"
    }
   ],
   "source": [
    "comments[0]['comment']"
   ]
  },
  {
   "cell_type": "code",
   "execution_count": null,
   "metadata": {},
   "outputs": [],
   "source": []
  },
  {
   "cell_type": "code",
   "execution_count": 40,
   "metadata": {},
   "outputs": [
    {
     "name": "stdout",
     "output_type": "stream",
     "text": [
      "insert into comments_fmkorea (title, value) values (` [정치/시사] 트럼프도 빨간색이려나 [1] `,`딥시크에 대해 중국을 칭찬하는 트럼프한국이었다면 앞뒤 맥락없이 조금이라도 두둔하면 빨갱이 몰이 할텐데 ㅋㅋㅋㅋㅋ아무튼 한국은 뭐하나의대에 사람이 몰리는게 정상인건가`)\n"
     ]
    }
   ],
   "source": [
    "query = \"insert into comments_fmkorea (title, value) values (`{0}`,`{1}`)\".format(comments[0]['title'], comments[0]['comment'])\n",
    "print(query)"
   ]
  },
  {
   "cell_type": "code",
   "execution_count": null,
   "metadata": {},
   "outputs": [],
   "source": []
  },
  {
   "cell_type": "code",
   "execution_count": 29,
   "metadata": {},
   "outputs": [
    {
     "data": {
      "text/plain": [
       "\"insert into comments_fmkorea (title, value) values (' [정치/시사] 트럼프도 빨간색이려나 [1] ','딥시크에 대해 중국을 칭찬하는 트럼프한국이었다면 앞뒤 맥락없이 조금이라도 두둔하면 빨갱이 몰이 할텐데 ㅋㅋㅋㅋㅋ아무튼 한국은 뭐하나의대에 사람이 몰리는게 정상인건가')\""
      ]
     },
     "execution_count": 29,
     "metadata": {},
     "output_type": "execute_result"
    }
   ],
   "source": [
    "query"
   ]
  },
  {
   "cell_type": "code",
   "execution_count": 41,
   "metadata": {},
   "outputs": [
    {
     "name": "stdout",
     "output_type": "stream",
     "text": [
      " [정치/시사] 트럼프도 빨간색이려나 [1] \n",
      "딥시크에 대해 중국을 칭찬하는 트럼프한국이었다면 앞뒤 맥락없이 조금이라도 두둔하면 빨갱이 몰이 할텐데 ㅋㅋㅋㅋㅋ아무튼 한국은 뭐하나의대에 사람이 몰리는게 정상인건가\n",
      "\n",
      "\n",
      " [주식] 팔랑팔랑 팔란티어 소식 [9] \n",
      "팔란티어의 고객은 프라이버시 유출 우려 없이딥시크 사용이 가능 !!\n",
      "\n",
      "\n",
      " [주식] 딥시크 사태 이공계 국회의원 논평 [6] \n",
      "\n",
      "\n",
      "\n",
      " [원신] ㅇㅇㅅ) 뒤져따 딥시크 잉토법으로 불망간다 [14] \n",
      "잉토 쉽다 쉬워\n",
      "\n",
      "\n",
      " [치지직] 딥시크 첫인상은 맘에 드는듯 [1] \n",
      "나이도 어린데 예의발라\n",
      "\n",
      "\n",
      " [유머/움짤/이슈] 딥시크는 정말 개인정보 유출이 심각할까? ㅎㄷㄷㄷㄷㄷㄷ [1] \n",
      "피셜 1 구글 2 딥시크 3 네이버 순으로 ... \n",
      "\n",
      "\n",
      " [가상화폐] 딥시크 묻은 코인 vvv가 제일좋은건가 \n",
      "바로 코인베이스 상장이네\n",
      "\n",
      "\n",
      " [유머/움짤/이슈] 화제의 딥시크한테 대만문제에 관해 물어봄 [1] \n",
      "두루뭉실하게 대답할줄알았더니 방향성 확고한듯 ㄷㄷ근데 <우리>라고 하는거 보니 국적의식도 확실한건가\n",
      "\n",
      "\n",
      " [주식] 딥시크? 그건 주식이 없나요?? [3] \n",
      "상장이 안된건가요??상하이 주식인가요??\n",
      "\n",
      "\n",
      " [주식] 딥시크 이거 맞음? \n",
      "오픈소스긴 하나 딥시크를 응용해서 딥시크 1 2 3으로 만드는건 되도 딥시크를 새로 데이터 넣어서 만드는 코드는 비공개인거임? 내가 이해하는게 맞나?\n",
      "\n",
      "\n"
     ]
    }
   ],
   "source": [
    "for i in comments:\n",
    "    print(i['title'])\n",
    "    print(i['comment'])\n",
    "    print('\\n')"
   ]
  },
  {
   "cell_type": "code",
   "execution_count": 43,
   "metadata": {},
   "outputs": [],
   "source": [
    "def insert_data_to_mysql(p_comments):\n",
    "    conn = get_connector()\n",
    "\n",
    "    for i in p_comments:\n",
    "        try:\n",
    "            query = \"insert into comments_fmkorea (title, comment) values (`{0}`, `{1}`)\".format(i['title'], i['comment'])\n",
    "            conn.session.execute(text(query))\n",
    "            conn.session.commit()\n",
    "        except:\n",
    "            pass\n"
   ]
  },
  {
   "cell_type": "code",
   "execution_count": 46,
   "metadata": {},
   "outputs": [],
   "source": [
    "import streamlit as st\n",
    "@st.cache_resource\n",
    "def get_connector():\n",
    "    return st.connection('scraping_comments_for_deepseek_db', type='sql', autocommit=True)\n"
   ]
  },
  {
   "cell_type": "code",
   "execution_count": 47,
   "metadata": {},
   "outputs": [
    {
     "name": "stderr",
     "output_type": "stream",
     "text": [
      "2025-01-28 18:01:35.374 WARNING streamlit.runtime.scriptrunner_utils.script_run_context: Thread 'MainThread': missing ScriptRunContext! This warning can be ignored when running in bare mode.\n",
      "2025-01-28 18:01:35.428 \n",
      "  \u001b[33m\u001b[1mWarning:\u001b[0m to view this Streamlit app on a browser, run it with the following\n",
      "  command:\n",
      "\n",
      "    streamlit run c:\\dev\\scraping-deepseek-reaction-in-korean-community\\.venv\\Lib\\site-packages\\ipykernel_launcher.py [ARGUMENTS]\n",
      "2025-01-28 18:01:35.429 Thread 'MainThread': missing ScriptRunContext! This warning can be ignored when running in bare mode.\n",
      "2025-01-28 18:01:35.429 Thread 'MainThread': missing ScriptRunContext! This warning can be ignored when running in bare mode.\n",
      "2025-01-28 18:01:35.564 Thread 'MainThread': missing ScriptRunContext! This warning can be ignored when running in bare mode.\n",
      "2025-01-28 18:01:35.564 Thread 'MainThread': missing ScriptRunContext! This warning can be ignored when running in bare mode.\n"
     ]
    }
   ],
   "source": [
    "for page in range(1, 3):\n",
    "    response = connect_fmkorea(page)\n",
    "    comments = get_comments(response)\n",
    "    \n",
    "    insert_data_to_mysql(comments)"
   ]
  },
  {
   "cell_type": "code",
   "execution_count": 2,
   "metadata": {},
   "outputs": [
    {
     "data": {
      "text/plain": [
       "False"
      ]
     },
     "execution_count": 2,
     "metadata": {},
     "output_type": "execute_result"
    }
   ],
   "source": [
    "isinstance(\"10\", int)"
   ]
  },
  {
   "cell_type": "code",
   "execution_count": 3,
   "metadata": {},
   "outputs": [
    {
     "data": {
      "text/plain": [
       "True"
      ]
     },
     "execution_count": 3,
     "metadata": {},
     "output_type": "execute_result"
    }
   ],
   "source": [
    "isinstance(10,int)"
   ]
  },
  {
   "cell_type": "code",
   "execution_count": 4,
   "metadata": {},
   "outputs": [],
   "source": [
    "import math"
   ]
  },
  {
   "cell_type": "code",
   "execution_count": 5,
   "metadata": {},
   "outputs": [
    {
     "data": {
      "text/plain": [
       "True"
      ]
     },
     "execution_count": 5,
     "metadata": {},
     "output_type": "execute_result"
    }
   ],
   "source": [
    "'10'.isdecimal()"
   ]
  },
  {
   "cell_type": "code",
   "execution_count": null,
   "metadata": {},
   "outputs": [],
   "source": []
  },
  {
   "cell_type": "code",
   "execution_count": null,
   "metadata": {},
   "outputs": [],
   "source": []
  }
 ],
 "metadata": {
  "kernelspec": {
   "display_name": ".venv",
   "language": "python",
   "name": "python3"
  },
  "language_info": {
   "codemirror_mode": {
    "name": "ipython",
    "version": 3
   },
   "file_extension": ".py",
   "mimetype": "text/x-python",
   "name": "python",
   "nbconvert_exporter": "python",
   "pygments_lexer": "ipython3",
   "version": "3.12.8"
  }
 },
 "nbformat": 4,
 "nbformat_minor": 2
}
